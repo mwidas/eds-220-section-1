{
 "cells": [
  {
   "cell_type": "markdown",
   "id": "7ce80368-8fe1-4e34-be5f-0e7a5f6d9e2e",
   "metadata": {},
   "source": [
    "## Archive Exploration\n",
    "\n",
    "What is this data about?\n",
    "- This dataset contains cleaned GBIF (www.gbif.org) occurrence records and associated climate and environmental data for all arthropod prey of listed species in California drylands as identified in Lortie et al. (2023).\n",
    "\n",
    "Is this data collected in-situ by the authors or is it a synthesis of multiple datasets?\n",
    "- These data are a synthesis of multiple datasets\n",
    "\n",
    "During what time frame were the observations in the dataset collected?\n",
    "- The observations in the dataset were collected from 1945 to 2022.\n",
    "\n",
    "Does this dataset come with an associated metadata file?\n",
    "- This dataset does come with an associated metadata file. \n",
    "\n",
    "Does the dataset contain sensitive data?\n",
    "- This dataset does not contain sensitive data.\n",
    "\n",
    "Rachel King, Jenna Braun, Michael Westphal, & CJ Lortie. (2023). Compiled occurrence records for prey items of listed species found in California drylands with associated environmental data. Knowledge Network for Biocomplexity. doi:10.5063/F1VM49RH. Accessed October 9, 2023. https://knb.ecoinformatics.org/view/doi%3A10.5063%2FF1VM49RH\n"
   ]
  },
  {
   "cell_type": "code",
   "execution_count": null,
   "id": "13cf39c8-c025-4a0f-84bf-2abdb17b40fd",
   "metadata": {},
   "outputs": [],
   "source": []
  }
 ],
 "metadata": {
  "kernelspec": {
   "display_name": "Anaconda 3 (Base)",
   "language": "python",
   "name": "base"
  },
  "language_info": {
   "codemirror_mode": {
    "name": "ipython",
    "version": 3
   },
   "file_extension": ".py",
   "mimetype": "text/x-python",
   "name": "python",
   "nbconvert_exporter": "python",
   "pygments_lexer": "ipython3",
   "version": "3.9.13"
  }
 },
 "nbformat": 4,
 "nbformat_minor": 5
}
